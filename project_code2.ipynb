{
 "cells": [
  {
   "cell_type": "code",
   "execution_count": 1,
   "metadata": {},
   "outputs": [],
   "source": [
    "import pandas as pd\n",
    "import numpy as np\n",
    "import matplotlib.pyplot as plt\n",
    "import seaborn as sns\n",
    "from sklearn.preprocessing import StandardScaler, MinMaxScaler\n",
    "from sklearn.model_selection import train_test_split, cross_val_score\n",
    "from sklearn.svm import SVC\n",
    "from sklearn.metrics import accuracy_score, confusion_matrix, classification_report"
   ]
  },
  {
   "cell_type": "code",
   "execution_count": 9,
   "metadata": {},
   "outputs": [
    {
     "name": "stdout",
     "output_type": "stream",
     "text": [
      "<bound method NDFrame.head of      diagnosis  radius_mean  texture_mean  perimeter_mean  area_mean  \\\n",
      "10           1     0.764139      0.667818        0.763974   0.682629   \n",
      "13           1     0.749768      0.702863        0.776942   0.666875   \n",
      "16           1     0.650858      0.514314        0.660744   0.564424   \n",
      "19           0     0.554485      0.229516        0.566334   0.441106   \n",
      "20           0     0.515597      0.296150        0.542601   0.392801   \n",
      "..         ...          ...           ...             ...        ...   \n",
      "558          0     0.643250      0.640178        0.682142   0.535837   \n",
      "559          0     0.382873      0.701876        0.398522   0.271257   \n",
      "560          0     0.597599      0.860809        0.617170   0.476682   \n",
      "561          0     0.356666      0.970385        0.348593   0.252999   \n",
      "566          1     0.813171      0.906713        0.836597   0.745540   \n",
      "\n",
      "     smoothness_mean  compactness_mean  concavity_mean  concave points_mean  \\\n",
      "10          0.293588          0.266056        0.167038             0.368036   \n",
      "13          0.322871          0.454505        0.503190             0.594086   \n",
      "16          0.543024          0.295917        0.374430             0.582457   \n",
      "19          0.529809          0.348161        0.337418             0.529516   \n",
      "20          0.675627          0.605219        0.231291             0.344446   \n",
      "..               ...               ...             ...                  ...   \n",
      "558         0.333684          0.638961        0.521013             0.413778   \n",
      "559         0.452020          0.465190        0.563038             0.454646   \n",
      "560         0.552335          0.524238        0.225924             0.476686   \n",
      "561         0.179907          0.091103        0.000000             0.000000   \n",
      "566         0.330981          0.466314        0.468405             0.587219   \n",
      "\n",
      "     symmetry_mean  ...  radius_worst  texture_worst  perimeter_worst  \\\n",
      "10          0.1528  ...      0.904418       0.815976         0.868624   \n",
      "13          0.1847  ...      0.715663       0.583800         0.728962   \n",
      "16          0.1586  ...      0.894779       0.703994         0.863889   \n",
      "19          0.1885  ...      0.576707       0.270250         0.583383   \n",
      "20          0.1967  ...      0.527711       0.316163         0.540656   \n",
      "..             ...  ...           ...            ...              ...   \n",
      "558         0.1454  ...      0.606426       0.569242         0.656764   \n",
      "559         0.1388  ...      0.365462       0.938410         0.377204   \n",
      "560         0.1537  ...      0.591968       0.789474         0.589301   \n",
      "561         0.1060  ...      0.320482       0.980963         0.293289   \n",
      "566         0.1590  ...      0.887550       0.824935         0.902947   \n",
      "\n",
      "     area_worst  smoothness_worst  compactness_worst  concavity_worst  \\\n",
      "10     0.878049          0.439296           0.311952         0.281334   \n",
      "13     0.629141          0.392493           0.402992         0.447744   \n",
      "16     0.867128          0.704203           0.390056         0.561897   \n",
      "19     0.478704          0.681737           0.366137         0.460856   \n",
      "20     0.405260          0.561921           0.610944         0.364443   \n",
      "..          ...               ...                ...              ...   \n",
      "558    0.498999          0.294206           0.707354         0.706132   \n",
      "559    0.263014          0.548816           0.547729         0.699961   \n",
      "560    0.474609          0.495460           0.485978         0.255688   \n",
      "561    0.231525          0.201254           0.067487         0.000000   \n",
      "566    0.854387          0.399981           0.688560         0.656190   \n",
      "\n",
      "     concave points_worst  symmetry_worst  fractal_dimension_worst  \n",
      "10               0.537157        0.605517                 0.571761  \n",
      "13               0.602585        0.544658                 0.151862  \n",
      "16               0.866451        0.640981                 0.525989  \n",
      "19               0.693592        0.618214                 0.340380  \n",
      "20               0.392192        0.708844                 0.519589  \n",
      "..                    ...             ...                      ...  \n",
      "558              0.595046        0.303415                 0.484872  \n",
      "559              0.519817        0.239492                 0.626067  \n",
      "560              0.564351        0.299912                 0.546354  \n",
      "561              0.000000        0.000438                 0.077773  \n",
      "566              0.763597        0.285902                 0.449185  \n",
      "\n",
      "[384 rows x 31 columns]>\n"
     ]
    }
   ],
   "source": [
    "# DATA PREPROCESSING\n",
    "\n",
    "df = pd.read_csv('breast-cancer.csv')\n",
    "df = df.drop(columns=['id'])\n",
    "df['diagnosis'] = df['diagnosis'].map({'M': 1, 'B': 0})\n",
    "\n",
    "y = df['diagnosis']  \n",
    "X = df.drop(columns=['diagnosis'])  \n",
    "\n",
    "# Remove nulls and duplicates\n",
    "df.dropna(inplace=True)\n",
    "df.drop_duplicates(inplace=True)\n",
    "\n",
    "# Remove outliers using the IQR method\n",
    "column_names = ['radius_mean', 'texture_mean', 'perimeter_mean', 'area_mean', 'smoothness_mean', 'compactness_mean', 'concavity_mean', 'concave points_mean', 'radius_worst', 'texture_worst', 'perimeter_worst', 'area_worst', 'smoothness_worst', 'compactness_worst', 'concavity_worst', 'concave points_worst', 'symmetry_worst', 'fractal_dimension_worst']\n",
    "\n",
    "for column_name in column_names:\n",
    "  Q1 = df[column_name].quantile(0.25)\n",
    "  Q3 = df[column_name].quantile(0.75)\n",
    "  IQR = Q3 - Q1\n",
    "  df = df[~((df[column_name] < (Q1 - 1.5 * IQR)) | (df[column_name] > (Q3 + 1.5 * IQR)))]\n",
    "\n",
    "# Standardization\n",
    "scaler = StandardScaler()\n",
    "df[column_names] = scaler.fit_transform(df[column_names])\n",
    "\n",
    "# Normalization\n",
    "normalizer = MinMaxScaler()\n",
    "df[column_names] = normalizer.fit_transform(df[column_names])\n",
    "print(df.head)"
   ]
  },
  {
   "cell_type": "code",
   "execution_count": 3,
   "metadata": {},
   "outputs": [
    {
     "name": "stdout",
     "output_type": "stream",
     "text": [
      "Selected Features: ['radius_mean', 'perimeter_mean', 'area_mean', 'compactness_mean', 'concavity_mean', 'concave points_mean', 'radius_se', 'perimeter_se', 'area_se', 'radius_worst', 'perimeter_worst', 'area_worst', 'compactness_worst', 'concavity_worst', 'concave points_worst']\n"
     ]
    }
   ],
   "source": [
    "# FEATURE LEARNING\n",
    "\n",
    "# Calculate correlation with the target variable\n",
    "correlation_matrix = X.corrwith(y)\n",
    "selected_features = correlation_matrix[correlation_matrix.abs() > 0.5].index.tolist()\n",
    "X_selected = X[selected_features]\n",
    "print(\"Selected Features:\", selected_features)"
   ]
  },
  {
   "cell_type": "code",
   "execution_count": 4,
   "metadata": {},
   "outputs": [
    {
     "name": "stdout",
     "output_type": "stream",
     "text": [
      "Cross-validation scores:  [0.92307692 0.87912088 0.96703297 0.86813187 0.87912088]\n",
      "Average cross validation score:  0.9032967032967033\n"
     ]
    }
   ],
   "source": [
    "# MODEL TRAINING\n",
    "X_train, X_test, y_train, y_test = train_test_split(X_selected, y, test_size = 0.2, random_state=42)\n",
    "svm = SVC(kernel='rbf', random_state=42)\n",
    "\n",
    "# Cross validation (5-fold)\n",
    "cv_scores = cross_val_score(svm, X_train, y_train, cv=5)\n",
    "print(\"Cross-validation scores: \", cv_scores)\n",
    "print(\"Average cross validation score: \", np.mean(cv_scores))\n",
    "\n",
    "# Train (fit) SVM model on training data\n",
    "svm.fit(X_train, y_train)\n",
    "\n",
    "# Predictions\n",
    "y_pred_train = svm.predict(X_train)"
   ]
  },
  {
   "cell_type": "code",
   "execution_count": 6,
   "metadata": {},
   "outputs": [],
   "source": [
    "# MODEL TESTING\n",
    "y_pred_test = svm.predict(X_test)"
   ]
  },
  {
   "cell_type": "code",
   "execution_count": 7,
   "metadata": {},
   "outputs": [
    {
     "name": "stdout",
     "output_type": "stream",
     "text": [
      "Training Accuracy: 0.9121\n",
      "Testing Accuracy: 0.9474\n"
     ]
    },
    {
     "data": {
      "image/png": "[encoded data removed]",
      "text/plain": [
       "<Figure size 640x480 with 2 Axes>"
      ]
     },
     "metadata": {},
     "output_type": "display_data"
    },
    {
     "name": "stdout",
     "output_type": "stream",
     "text": [
      "Classification Report: \n",
      "               precision    recall  f1-score   support\n",
      "\n",
      "           0       0.92      1.00      0.96        71\n",
      "           1       1.00      0.86      0.93        43\n",
      "\n",
      "    accuracy                           0.95       114\n",
      "   macro avg       0.96      0.93      0.94       114\n",
      "weighted avg       0.95      0.95      0.95       114\n",
      "\n"
     ]
    }
   ],
   "source": [
    "# MODEL PERFORMANCE EVALUATION\n",
    "# Accuracy\n",
    "train_accuracy = accuracy_score(y_train, y_pred_train)\n",
    "test_accuracy = accuracy_score(y_test, y_pred_test)\n",
    "\n",
    "print(f\"Training Accuracy: {train_accuracy:.4f}\")\n",
    "print(f\"Testing Accuracy: {test_accuracy:.4f}\")\n",
    "\n",
    "# Confusion Matrix\n",
    "cm = confusion_matrix(y_test, y_pred_test)\n",
    "sns.heatmap(cm, annot=True, fmt='d', cmap='Blues', xticklabels=['Benign', 'Malignant'], yticklabels=['Benign', 'Malignant'])\n",
    "plt.title('Confusion Matrix')\n",
    "plt.xlabel('Predicted')\n",
    "plt.ylabel('Actual')\n",
    "plt.show()\n",
    "\n",
    "# Classification Report\n",
    "print(\"Classification Report: \\n\", classification_report(y_test, y_pred_test))"
   ]
  },
  {
   "cell_type": "code",
   "execution_count": 8,
   "metadata": {},
   "outputs": [
    {
     "name": "stdout",
     "output_type": "stream",
     "text": [
      "The model predicts the tumor is Malignant.\n"
     ]
    }
   ],
   "source": [
    "# USER INPUT FOR PREDICTION\n",
    "user_file = input('Enter a CSV file: ')\n",
    "user_input_df = pd.read_csv(user_file)\n",
    "user_input_df = user_input_df.drop(columns=['id']) \n",
    "X_user_input = user_input_df[selected_features] \n",
    "\n",
    "# Remove nulls and duplicates\n",
    "user_input_df.dropna(inplace=True)\n",
    "user_input_df.drop_duplicates(inplace=True)\n",
    "\n",
    "# Remove outliers using the IQR method\n",
    "column_names = ['radius_mean', 'texture_mean', 'perimeter_mean', 'area_mean', 'smoothness_mean', 'compactness_mean', 'concavity_mean', 'concave points_mean', 'radius_worst', 'texture_worst', 'perimeter_worst', 'area_worst', 'smoothness_worst', 'compactness_worst', 'concavity_worst', 'concave points_worst', 'symmetry_worst', 'fractal_dimension_worst']\n",
    "\n",
    "# Standardization\n",
    "scaler = StandardScaler()\n",
    "user_input_df[column_names] = scaler.fit_transform(user_input_df[column_names])\n",
    "\n",
    "# Normalization\n",
    "normalizer = MinMaxScaler()\n",
    "user_input_df[column_names] = normalizer.fit_transform(user_input_df[column_names])\n",
    "\n",
    "# Make a prediction\n",
    "prediction = svm.predict(X_user_input)\n",
    "\n",
    "# Display the prediction\n",
    "if prediction[0] == 1:\n",
    "    print(\"The model predicts the tumor is Malignant.\")\n",
    "else:\n",
    "    print(\"The model predicts the tumor is Benign.\")"
   ]
  }
 ],
 "metadata": {
  "kernelspec": {
   "display_name": ".venv",
   "language": "python",
   "name": "python3"
  },
  "language_info": {
   "codemirror_mode": {
    "name": "ipython",
    "version": 3
   },
   "file_extension": ".py",
   "mimetype": "text/x-python",
   "name": "python",
   "nbconvert_exporter": "python",
   "pygments_lexer": "ipython3",
   "version": "3.10.11"
  }
 },
 "nbformat": 4,
 "nbformat_minor": 2
}
